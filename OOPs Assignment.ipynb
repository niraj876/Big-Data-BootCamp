{
 "cells": [
  {
   "cell_type": "markdown",
   "id": "ffc8ca09-419f-4066-a1d5-c28bb2e84615",
   "metadata": {},
   "source": [
    "Python_OOP_Assignment\n",
    "--"
   ]
  },
  {
   "cell_type": "code",
   "execution_count": null,
   "id": "7668d087-ee2e-45fe-9b2f-a46811d62cf6",
   "metadata": {},
   "outputs": [],
   "source": [
    "Q1. What is the purpose of Python's OOP?\n",
    "Ans.:\n",
    "\n",
    "The main purpose of Ptyhon's OOPs is to use real world entity in programming."
   ]
  },
  {
   "cell_type": "code",
   "execution_count": null,
   "id": "964d900c-16c5-497e-a592-7e1dba2683d9",
   "metadata": {},
   "outputs": [],
   "source": [
    "Q2. Where does an inheritance search look for an attribute?\n",
    "Ans.:\n",
    "\n",
    "Inheritance search look for an attribute,  the first occurrence of attribute by looking in object, then in all classes above it, from bottom to top and left to right."
   ]
  },
  {
   "cell_type": "code",
   "execution_count": null,
   "id": "6fb50db1-5554-4c5e-985f-8f1247901cea",
   "metadata": {},
   "outputs": [],
   "source": [
    "Q3. How do you distinguish between a class object and an instance object?\n",
    "Ans.:"
   ]
  },
  {
   "cell_type": "code",
   "execution_count": null,
   "id": "cb42024d-73a7-46a7-9f0e-57f778850a78",
   "metadata": {},
   "outputs": [],
   "source": [
    "We can create one class object and many instance objects of one class."
   ]
  },
  {
   "cell_type": "code",
   "execution_count": 4,
   "id": "2142af6e-914b-4662-bc30-bdc89c54d1c4",
   "metadata": {},
   "outputs": [
    {
     "data": {
      "text/plain": [
       "10"
      ]
     },
     "execution_count": 4,
     "metadata": {},
     "output_type": "execute_result"
    }
   ],
   "source": [
    "# Using class object we can only access static variables \n",
    "# Using class name dot(.) static variable name.\n",
    "class Test:\n",
    "    x = 10\n",
    "    def __init__(self, a, b):\n",
    "        self.a = a\n",
    "        self.b= b\n",
    "#class Object\n",
    "Test.x"
   ]
  },
  {
   "cell_type": "code",
   "execution_count": 7,
   "id": "25712b63-fde8-452c-a2e9-bb25a562cbfa",
   "metadata": {},
   "outputs": [],
   "source": [
    "# To create instances of a class, you call the class using class name and pass in whatever arguments its __init__ method accepts.\n",
    "class Test:\n",
    "    x = 10\n",
    "    def __init__(self, a, b):\n",
    "        self.a = a\n",
    "        self.b= b\n",
    "#Instance Object\n",
    "t1 = Test(10, 5)\n",
    "t2 = Test(11,9)"
   ]
  },
  {
   "cell_type": "code",
   "execution_count": null,
   "id": "186225e4-1483-46ce-b7f8-2b5c99a3de7b",
   "metadata": {},
   "outputs": [],
   "source": [
    "Q4. What makes the first argument in a class’s method function special?\n",
    "Ans.:\n",
    "\n",
    "cls"
   ]
  },
  {
   "cell_type": "code",
   "execution_count": null,
   "id": "776540e4-f7b2-4668-9c0d-c219441bc9b5",
   "metadata": {},
   "outputs": [],
   "source": [
    "Q5. What is the purpose of the init method?\n",
    "Ans.:\n",
    "\n",
    "The purpose of init method is to take default values. "
   ]
  },
  {
   "cell_type": "code",
   "execution_count": null,
   "id": "9f8b1c1a-2f2a-4f8a-93e1-f77c55aabc43",
   "metadata": {},
   "outputs": [],
   "source": [
    "Q6. What is the process for creating a class instance?\n",
    "Ans.:\n",
    "\n",
    "To create a instance of a class, we call the class using class name and pass in whatever arguments it's __init__() method accept.\n",
    "std1 = Student('niraj', '101')"
   ]
  },
  {
   "cell_type": "code",
   "execution_count": null,
   "id": "4d093347-1bc6-48ef-81cb-59b893a951d2",
   "metadata": {},
   "outputs": [],
   "source": [
    "Q7. What is the process for creating a class?\n",
    "Ans.:\n",
    "\n",
    "To define a class in python, we have to use class keyword followed by the class name and a colon.\n",
    "class Student:\n",
    "    pass"
   ]
  },
  {
   "cell_type": "code",
   "execution_count": null,
   "id": "4945eaf1-ab3f-4320-a4d5-41ea630efa40",
   "metadata": {},
   "outputs": [],
   "source": [
    "Q8. How would you define the superclasses of a class?\n",
    "Ans.:\n",
    "\n",
    "A Super class is the class from which many sub classes can we created.\n",
    "class Teacher:\n",
    "    pass\n",
    "\n",
    "class Student(Teacher):\n",
    "    pass\n",
    "Here, teacher is super class of student class."
   ]
  },
  {
   "cell_type": "code",
   "execution_count": null,
   "id": "2705c7a9-7401-4a98-ad34-a52b141ab3ce",
   "metadata": {},
   "outputs": [],
   "source": [
    "Q9. What is the relationship between classes and modules?\n",
    "Ans.:\n",
    "\n",
    "No particular relations between classes and modules.\n",
    "\n",
    "Classes in python are templates for creating objects. They contain variables and functions which define the class objects. At the same time, modules are python programs that can be imported into another python program. Importing a module enables the usage of the module’s functions and variables into another program.\n",
    "\n",
    "Although modules and classes are very different, sometimes one may get confused between their functionalities. "
   ]
  },
  {
   "cell_type": "code",
   "execution_count": null,
   "id": "b2d02506-420a-4bc5-9a3f-c49489a84a18",
   "metadata": {},
   "outputs": [],
   "source": [
    "Q10. How do you make instances and classes?\n",
    "Ans.:\n",
    "\n",
    "class Student:\n",
    "    pass\n",
    "\n",
    "std = Student()"
   ]
  },
  {
   "cell_type": "code",
   "execution_count": null,
   "id": "81ec1798-54a2-4823-b5b4-182a877a0440",
   "metadata": {},
   "outputs": [],
   "source": [
    "Q11. Where and how should be class attributes created?\n",
    "Ans.:\n",
    "\n",
    "class Student:\n",
    "    count = 0 # class attribute    "
   ]
  },
  {
   "cell_type": "code",
   "execution_count": null,
   "id": "48af30f2-2f84-407c-a215-f5c73ae29f62",
   "metadata": {},
   "outputs": [],
   "source": [
    "Q12. Where and how are instance attributes created?\n",
    "Ans.:\n",
    "\n",
    "class Student:\n",
    "    def __init__(self, name):\n",
    "        self.name = name # instance attribute"
   ]
  },
  {
   "cell_type": "code",
   "execution_count": null,
   "id": "4c91532e-512d-44ee-a523-af5afc0ac144",
   "metadata": {},
   "outputs": [],
   "source": [
    "Q13. What does the term \"self\" in a Python class mean?\n",
    "Ans.:\n",
    "\n",
    "Self is a convention, not a python keyword.\n",
    "'self' is used to represent the instance of the class "
   ]
  },
  {
   "cell_type": "code",
   "execution_count": null,
   "id": "ac9be772-13f8-49b7-a414-a804c36f48db",
   "metadata": {},
   "outputs": [],
   "source": [
    "Q14. How does a Python class handle operator overloading?\n",
    "Ans.:\n",
    "\n",
    "Modifying the behavior of an operator by redefining the method, an operator invokes is called Operator Overloading.\n",
    "\n",
    "For example operator + is used to add two integers as well as join two strings and merge two lists."
   ]
  },
  {
   "cell_type": "code",
   "execution_count": null,
   "id": "be8a2bff-53a3-445e-b919-9ad4c4468a5c",
   "metadata": {},
   "outputs": [],
   "source": [
    "# adding two number\n",
    "print(1 + 2)\n",
    " \n",
    "# concatenate two strings\n",
    "print(\"niraj\"+\"vivek\")\n",
    "\n",
    "# merging two list\n",
    "print([1,2,3,4] + ['a', 'b'])"
   ]
  },
  {
   "cell_type": "code",
   "execution_count": null,
   "id": "476ff70d-b6f8-47ab-9705-63155aafa43c",
   "metadata": {},
   "outputs": [],
   "source": [
    "Q15. When do you consider allowing operator overloading of your classes?\n",
    "Ans.:\n",
    "\n",
    "Operator overloading is mostly useful when you're making a new class that falls into an existing \"Abstract Base Class\""
   ]
  },
  {
   "cell_type": "code",
   "execution_count": null,
   "id": "2b076029-d06c-42bd-87d6-bce29bd04399",
   "metadata": {},
   "outputs": [],
   "source": [
    "Q16. What is the most popular form of operator overloading?\n",
    "Ans.:\n",
    "\n",
    "plus (+) operator overloading"
   ]
  },
  {
   "cell_type": "code",
   "execution_count": null,
   "id": "34c1b0ea-788a-42ee-934b-d98fbf617891",
   "metadata": {},
   "outputs": [],
   "source": [
    "Q17. What are the two most important concepts to grasp in order to comprehend Python OOP code?\n",
    "Ans.:\n",
    "\n",
    "inheritance and polymorphism"
   ]
  },
  {
   "cell_type": "code",
   "execution_count": null,
   "id": "551116f2-57a1-493d-ade2-99dd07dbd3f7",
   "metadata": {},
   "outputs": [],
   "source": [
    "Q18. Describe three applications for exception processing.\n",
    "Ans.:\n",
    "    \n",
    "1. In operating systems we use exception handling to resolve deadlocks,recover from crash and so forth.\n",
    "2. In API, we use exception handling to resolve file missing, \n",
    "3. In Internet Communication"
   ]
  },
  {
   "cell_type": "code",
   "execution_count": null,
   "id": "f7cc71d5-5259-40ed-b2fe-9a4e082873b5",
   "metadata": {},
   "outputs": [],
   "source": [
    "Q19. What happens if you don't do something extra to treat an exception?\n",
    "Ans.:\n",
    "\n",
    "It will interupt the execution flow.\n",
    "\n",
    "Program terminates abruptly and the code past the line that caused the exception will not get executed."
   ]
  },
  {
   "cell_type": "code",
   "execution_count": null,
   "id": "13cf5288-e105-4a8d-ab75-ca16ce059b88",
   "metadata": {},
   "outputs": [],
   "source": [
    "Q20. What are your options for recovering from an exception in your script?\n",
    "Ans.:\n",
    "    use try & except block in your code    "
   ]
  },
  {
   "cell_type": "code",
   "execution_count": null,
   "id": "c2f3b0bb-6fef-4790-adb6-d377b9f95ab2",
   "metadata": {},
   "outputs": [],
   "source": [
    "Q21. Describe two methods for triggering exceptions in your script.\n",
    "Ans.:\n",
    "    \n",
    "    try and except\n",
    "Try and Except statement is used to handle these errors within our code in Python. The try block is used to check some code for errors \n",
    "i.e the code inside the try block will execute when there is no error in the program. Whereas the code inside the except block will execute \n",
    "whenever the program encounters some error in the preceding try block."
   ]
  },
  {
   "cell_type": "code",
   "execution_count": null,
   "id": "63946db2-5801-45f0-989f-57002b268d56",
   "metadata": {},
   "outputs": [],
   "source": [
    "Q22. Identify two methods for specifying actions to be executed at termination time, regardless of whether or not an exception exists.\n",
    "Ans.:\n",
    "    else and finally"
   ]
  },
  {
   "cell_type": "code",
   "execution_count": null,
   "id": "69e99ead-76be-480c-9b44-ff3b23b166e3",
   "metadata": {},
   "outputs": [],
   "source": [
    "Q23. What is the purpose of the try statement?\n",
    "Ans.:\n",
    "    The try statement allows you to define a block of code to be tested for errors while it is being executed."
   ]
  },
  {
   "cell_type": "code",
   "execution_count": null,
   "id": "2aedf729-d375-4e91-8b64-1f4be5805d09",
   "metadata": {},
   "outputs": [],
   "source": [
    "Q24. What are the two most popular try statement variations?\n",
    "Ans.:"
   ]
  },
  {
   "cell_type": "code",
   "execution_count": null,
   "id": "a0b889d7-c675-4751-a709-383517268ca9",
   "metadata": {},
   "outputs": [],
   "source": [
    "try:    \n",
    "    #block of code     \n",
    "except Exception_Name:    \n",
    "    #block of code "
   ]
  },
  {
   "cell_type": "code",
   "execution_count": null,
   "id": "ad069abb-e6c0-40ee-9a16-c8e46a09c0c7",
   "metadata": {},
   "outputs": [],
   "source": [
    "try:    \n",
    "    #block of code     \n",
    "except Exception_Name:    \n",
    "    #block of code \n",
    "else:\n",
    "    #block of code     "
   ]
  },
  {
   "cell_type": "code",
   "execution_count": null,
   "id": "99e8a29e-c138-4bae-9e31-b34f71c60e3f",
   "metadata": {},
   "outputs": [],
   "source": [
    "Q25. What is the purpose of the raise statement?\n",
    "Ans.:\n",
    "    Raise statement is used to raise the exception. We can define what kind of error to raise.\n",
    "\n",
    "The raise keyword is used to raise an exception."
   ]
  },
  {
   "cell_type": "code",
   "execution_count": null,
   "id": "596aa4aa-f736-483c-9827-64a3b2b3bf7c",
   "metadata": {},
   "outputs": [],
   "source": [
    "Q26. What does the assert statement do, and what other statement is it like?\n",
    "Ans.:\n",
    "    \n",
    "    Assertions are statements that assert or state a fact confidently in your program. For example, while writing a division function, you're confident the divisor shouldn't be zero, you assert divisor is not equal to zero."
   ]
  },
  {
   "cell_type": "code",
   "execution_count": null,
   "id": "dabd503d-cdec-4b72-aab5-17d8ae32e268",
   "metadata": {},
   "outputs": [],
   "source": [
    "Q27. What is the purpose of the with/as argument, and what other statement is it like?\n",
    "Ans.:\n",
    "    In Python, with statement is used in exception handling to make the code cleaner and much more readable.\n",
    "Other statement like with is :  try, except etc."
   ]
  },
  {
   "cell_type": "code",
   "execution_count": null,
   "id": "b511a545-1311-4e8b-b22e-69c18db35917",
   "metadata": {},
   "outputs": [],
   "source": [
    "Q28. What are *args, **kwargs?\n",
    "Ans.:\n",
    "    \n",
    "    *args (Non-keyword argument): It allow us to pass variable number of non keyword arguments to function.\n",
    "def adder(*num):\n",
    "    sum = 0\n",
    "    for n in num:\n",
    "        sum = sum + n\n",
    "    print(\"Sum:\",sum)\n",
    "\n",
    "adder(3,5)\n",
    "adder(4,5,6,7)\n",
    "adder(1,2,3,5,6)\n",
    "\n",
    "\n",
    "    **kwargs (Keyword argument): It allow us to pass variable number of keyword arguments to function.\n",
    "def intro(**data):\n",
    "    for key, value in data.items():\n",
    "        print(\"{} is {}\".format(key,value))\n",
    "\n",
    "intro(fname=\"niraj\", lname=\"vivek\", Age=22, Phone=1234567890)"
   ]
  },
  {
   "cell_type": "code",
   "execution_count": null,
   "id": "33351494-a42e-4d41-9248-93df6db27cd1",
   "metadata": {},
   "outputs": [],
   "source": [
    "Q29. How can I pass optional or keyword parameters from one function to another?\n",
    "Ans.:\n",
    "\n",
    "#exp is optional argument\n",
    "# **kwargs is keyword arguement\n",
    "def emp(name, exp = 0, **kwargs):\n",
    "    print(name)\n",
    "    print(exp) \n",
    "    for key, value in kwargs.items(): \n",
    "        print (\"%s = %s\" %(key, value)) \n",
    "    \n",
    "    \n",
    "emp('niraj', salary= 456)"
   ]
  },
  {
   "cell_type": "code",
   "execution_count": null,
   "id": "6753af7e-e5f0-4d84-9b47-d30abe8cb209",
   "metadata": {},
   "outputs": [],
   "source": [
    "Q30. What are Lambda Functions?\n",
    "Ans.:\n",
    "    \n",
    "    Lambda function is also known anonymous function.    "
   ]
  },
  {
   "cell_type": "code",
   "execution_count": null,
   "id": "893ce891-d64b-420d-8338-58dfe93c063c",
   "metadata": {},
   "outputs": [],
   "source": [
    "Q31. Explain Inheritance in Python with an example?\n",
    "Ans.:\n",
    "    Python inheritance allows us to define a class  that inherits the all the mehtods and properties from another class.\n",
    "    \n",
    "class Employee:\n",
    "    def __init__(self, id, name):\n",
    "        self.id = id\n",
    "        self.name = name\n",
    "        \n",
    "class HourlyEmployee(Employee):\n",
    "    def __init__(self, id, name, hours_worked, hour_rate):\n",
    "        super().__init__(id, name)\n",
    "        self.hours_worked = hours_worked\n",
    "        self.hour_rate = hour_rate\n",
    "\n",
    "    def payment(self):\n",
    "        return self.hours_worked * self.hour_rate"
   ]
  },
  {
   "cell_type": "code",
   "execution_count": null,
   "id": "fc3652d5-1c69-49ea-87f5-1c9fc5be88a8",
   "metadata": {},
   "outputs": [],
   "source": [
    "Q32. Suppose class C inherits from classes A and B as class C(A,B).Classes A and B both have their own versions of method func(). If we call func() from an object of class C, which version gets invoked?\n",
    "Ans.:\n",
    "    \n",
    "    func() method from class A "
   ]
  },
  {
   "cell_type": "code",
   "execution_count": null,
   "id": "193efa89-7904-4937-8d89-51395bf7db34",
   "metadata": {},
   "outputs": [],
   "source": [
    "Q33. Which methods/functions do we use to determine the type of instance and inheritance?\n",
    "Ans.:\n",
    "\n",
    "isinstance() and issubclass()"
   ]
  },
  {
   "cell_type": "code",
   "execution_count": null,
   "id": "d708f2dd-c0a1-455d-a1d5-58b9940a1ee3",
   "metadata": {},
   "outputs": [],
   "source": [
    "Q34.Explain the use of the 'nonlocal' keyword in Python.\n",
    "Ans.:\n",
    "    \n",
    "    The nonlocal keyword is used to work with variables inside nested functions, where the variable should not belong to the inner function."
   ]
  },
  {
   "cell_type": "code",
   "execution_count": null,
   "id": "177e5867-77e4-4e5b-bcda-7ce82a3982f6",
   "metadata": {},
   "outputs": [],
   "source": [
    "Q35. What is the global keyword?\n",
    "Ans.:\n",
    "    \n",
    "    Global keyword is keyword used to change the current scope of variable. i.e, to convert the scope of local variable to global variable."
   ]
  }
 ],
 "metadata": {
  "kernelspec": {
   "display_name": "Python 3",
   "language": "python",
   "name": "python3"
  },
  "language_info": {
   "codemirror_mode": {
    "name": "ipython",
    "version": 3
   },
   "file_extension": ".py",
   "mimetype": "text/x-python",
   "name": "python",
   "nbconvert_exporter": "python",
   "pygments_lexer": "ipython3",
   "version": "3.9.12"
  }
 },
 "nbformat": 4,
 "nbformat_minor": 5
}
