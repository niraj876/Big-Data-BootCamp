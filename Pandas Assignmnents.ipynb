{
 "cells": [
  {
   "cell_type": "markdown",
   "id": "b96c117f-5f42-4dcf-9818-2df872f152a6",
   "metadata": {},
   "source": [
    "PandasAssignment\n",
    "--"
   ]
  },
  {
   "cell_type": "code",
   "execution_count": null,
   "id": "9532caa2-65ad-4538-8536-8bcb1ed6bfc0",
   "metadata": {},
   "outputs": [],
   "source": [
    "Q1. How do you load a CSV file into a Pandas DataFrame?"
   ]
  },
  {
   "cell_type": "code",
   "execution_count": null,
   "id": "68a7774c-b564-4dba-99ee-4671b69c3398",
   "metadata": {},
   "outputs": [],
   "source": [
    "import pandas as pd\n",
    "dataframe = pd.read_csv(r\"./filename.csv\")"
   ]
  },
  {
   "cell_type": "code",
   "execution_count": null,
   "id": "bea61159-2a08-4eca-a34b-2cf7f59ba53f",
   "metadata": {},
   "outputs": [],
   "source": [
    "Q2. How do you check the data type of a column in a Pandas DataFrame?"
   ]
  },
  {
   "cell_type": "code",
   "execution_count": null,
   "id": "6e496849-ddb9-442d-b5ac-b0ee0d3b49f3",
   "metadata": {},
   "outputs": [],
   "source": [
    "dataframe.dtypes"
   ]
  },
  {
   "cell_type": "code",
   "execution_count": null,
   "id": "fb0cdf47-ebda-4d5a-88c7-13cbfe38de2d",
   "metadata": {},
   "outputs": [],
   "source": [
    "Q3. How do you select rows from a Pandas DataFrame based on a condition?"
   ]
  },
  {
   "cell_type": "code",
   "execution_count": null,
   "id": "8b9a0e37-a59c-4c92-90dd-759c978392e4",
   "metadata": {},
   "outputs": [],
   "source": [
    "dataframe[dataframe['name'] == 'iNeuron']"
   ]
  },
  {
   "cell_type": "code",
   "execution_count": null,
   "id": "3feb0b9d-90aa-4d2a-bfac-d4df72922620",
   "metadata": {},
   "outputs": [],
   "source": [
    "Q4. How do you rename columns in a Pandas DataFrame?"
   ]
  },
  {
   "cell_type": "code",
   "execution_count": null,
   "id": "b7f95c32-4692-4908-9941-0c5815c475f3",
   "metadata": {},
   "outputs": [],
   "source": [
    "dataframe.rename(columns={'old_column': 'new_column'})"
   ]
  },
  {
   "cell_type": "code",
   "execution_count": null,
   "id": "3596ea88-f93e-48fd-9a94-70501c484241",
   "metadata": {},
   "outputs": [],
   "source": [
    "Q5. How do you drop columns in a Pandas DataFrame?"
   ]
  },
  {
   "cell_type": "code",
   "execution_count": null,
   "id": "b962f54e-d9fd-4308-a6ae-18b5bd470dc4",
   "metadata": {},
   "outputs": [],
   "source": [
    "dataframe.drop('column_name', axis=1, inplace=True)"
   ]
  },
  {
   "cell_type": "code",
   "execution_count": null,
   "id": "4538840e-e504-4d8e-9958-e999999764ef",
   "metadata": {},
   "outputs": [],
   "source": [
    "Q6. How do you find the unique values in a column of a Pandas DataFrame?"
   ]
  },
  {
   "cell_type": "code",
   "execution_count": null,
   "id": "3993861a-d7cd-433c-8165-08f1e63cdf38",
   "metadata": {},
   "outputs": [],
   "source": [
    "dataframe['column_name'].unique"
   ]
  },
  {
   "cell_type": "code",
   "execution_count": null,
   "id": "5f97e466-bfca-4808-845f-8f1c0938c500",
   "metadata": {},
   "outputs": [],
   "source": [
    "Q7. How do you find the number of missing values in each column of a Pandas DataFrame?"
   ]
  },
  {
   "cell_type": "code",
   "execution_count": null,
   "id": "0fe04453-1707-40ff-98c4-ab080ca3029c",
   "metadata": {},
   "outputs": [],
   "source": [
    "dataframe.isnull().sum()"
   ]
  },
  {
   "cell_type": "code",
   "execution_count": null,
   "id": "e66ec78f-005b-4b9d-82fc-d3d73a5ce68d",
   "metadata": {},
   "outputs": [],
   "source": [
    "Q8. How do you fill missing values in a Pandas DataFrame with a specific value?"
   ]
  },
  {
   "cell_type": "code",
   "execution_count": null,
   "id": "09dda4a9-b9b3-4239-b157-8e7309ca69d3",
   "metadata": {},
   "outputs": [],
   "source": [
    "dataframe.fillna(value={'value1':'data1', 'value2':'data2'})"
   ]
  },
  {
   "cell_type": "code",
   "execution_count": null,
   "id": "7773f37c-09e2-4df3-8171-981a076f0489",
   "metadata": {},
   "outputs": [],
   "source": [
    "Q9. How do you concatenate two Pandas DataFrames?"
   ]
  },
  {
   "cell_type": "code",
   "execution_count": null,
   "id": "868cfc73-8222-4f95-a0e7-1a93e3598202",
   "metadata": {},
   "outputs": [],
   "source": [
    "pd.concat([dataframe1, dataframe2], axis=1)"
   ]
  },
  {
   "cell_type": "code",
   "execution_count": null,
   "id": "11f061d1-dd27-4dbc-bc1d-ec3041904403",
   "metadata": {},
   "outputs": [],
   "source": [
    "Q10. How do you merge two Pandas DataFrames on a specific column?"
   ]
  },
  {
   "cell_type": "code",
   "execution_count": null,
   "id": "b8cd6507-a044-4d53-91d4-303cbcd57824",
   "metadata": {},
   "outputs": [],
   "source": [
    "pd.merge(dataframe1, dataframe2, on=['matching column1', 'matching column2'], how='inner')  # how = left / right/ inner / outer"
   ]
  },
  {
   "cell_type": "code",
   "execution_count": null,
   "id": "3bb8c788-577a-4c96-bb8e-e8080eaaa71e",
   "metadata": {},
   "outputs": [],
   "source": [
    "Q11. How do you group data in a Pandas DataFrame by a specific column and apply an aggregation function?"
   ]
  },
  {
   "cell_type": "code",
   "execution_count": null,
   "id": "a99c0794-a7a0-404e-9a57-3c59f458f470",
   "metadata": {},
   "outputs": [],
   "source": [
    "dataframe.groupby(['column1', 'column2']).count()"
   ]
  },
  {
   "cell_type": "code",
   "execution_count": null,
   "id": "3a8c827a-8d74-41dd-a530-a3e1cfab7110",
   "metadata": {},
   "outputs": [],
   "source": [
    "Q12. How do you pivot a Pandas DataFrame?"
   ]
  },
  {
   "cell_type": "code",
   "execution_count": null,
   "id": "f889fd79-4fd7-402d-82d4-974244e3c601",
   "metadata": {},
   "outputs": [],
   "source": [
    "dataframe.pivot(index='column1', columns= 'column2', values=['col3', 'col4'])"
   ]
  },
  {
   "cell_type": "code",
   "execution_count": null,
   "id": "33e1ecdc-0bfa-4810-8e8e-642f992ab663",
   "metadata": {},
   "outputs": [],
   "source": [
    "Q13. How do you change the data type of a column in a Pandas DataFrame?"
   ]
  },
  {
   "cell_type": "code",
   "execution_count": null,
   "id": "0822fdb9-b668-4957-8cb5-828bd167972f",
   "metadata": {},
   "outputs": [],
   "source": [
    "dataframe['column'].astype(datatype)"
   ]
  },
  {
   "cell_type": "code",
   "execution_count": null,
   "id": "10b02a49-c0e3-4929-9721-decc7b257e2c",
   "metadata": {},
   "outputs": [],
   "source": [
    "Q14. How do you sort a Pandas DataFrame by a specific column?"
   ]
  },
  {
   "cell_type": "code",
   "execution_count": null,
   "id": "f79b34e7-d35e-4e44-8269-74d41f34df90",
   "metadata": {},
   "outputs": [],
   "source": [
    "dataframe.sort_values(by='column')"
   ]
  },
  {
   "cell_type": "code",
   "execution_count": null,
   "id": "0a2e7592-d0c6-443e-b9c6-688cbff3fc69",
   "metadata": {},
   "outputs": [],
   "source": [
    "Q15. How do you create a copy of a Pandas DataFrame?"
   ]
  },
  {
   "cell_type": "code",
   "execution_count": null,
   "id": "eb76c8ef-10d2-4f1b-b0e0-8fe35b62cfea",
   "metadata": {},
   "outputs": [],
   "source": [
    "dataframe2 = dataframe.copy()"
   ]
  },
  {
   "cell_type": "code",
   "execution_count": null,
   "id": "739a976b-04fc-458f-9fd0-da038246cda1",
   "metadata": {},
   "outputs": [],
   "source": [
    "Q16. How do you filter rows of a Pandas DataFrame by multiple conditions?"
   ]
  },
  {
   "cell_type": "code",
   "execution_count": null,
   "id": "70c94791-afc8-430a-a064-3fb3e5d12ac8",
   "metadata": {},
   "outputs": [],
   "source": [
    "dataframe[(dataframe['columns'] > 0) and (dataframe['columns'] < 100)]"
   ]
  },
  {
   "cell_type": "code",
   "execution_count": null,
   "id": "b021a50d-669d-42b5-a45c-b394792042b3",
   "metadata": {},
   "outputs": [],
   "source": [
    "Q17. How do you calculate the mean of a column in a Pandas DataFrame?"
   ]
  },
  {
   "cell_type": "code",
   "execution_count": null,
   "id": "7f9cc90c-08dd-4ad1-a65b-fe3b3f2cad6d",
   "metadata": {},
   "outputs": [],
   "source": [
    "dataframe.mean()"
   ]
  },
  {
   "cell_type": "code",
   "execution_count": null,
   "id": "b6afb981-1104-4e12-8a82-03a9849d3d53",
   "metadata": {},
   "outputs": [],
   "source": [
    "Q18. How do you calculate the standard deviation of a column in a Pandas DataFrame?"
   ]
  },
  {
   "cell_type": "code",
   "execution_count": null,
   "id": "3d02a273-ae8f-49bd-9ece-8c3bfb8a7c85",
   "metadata": {},
   "outputs": [],
   "source": [
    "dataframe.std()"
   ]
  },
  {
   "cell_type": "code",
   "execution_count": null,
   "id": "228709ef-3591-41b7-841a-0f938dc1e791",
   "metadata": {},
   "outputs": [],
   "source": [
    "Q19. How do you calculate the correlation between two columns in a Pandas DataFrame?"
   ]
  },
  {
   "cell_type": "code",
   "execution_count": null,
   "id": "eb13ae89-158a-4754-a5ee-d5800e567cba",
   "metadata": {},
   "outputs": [],
   "source": [
    "dataframe['column1'].corr(data['column2'])"
   ]
  },
  {
   "cell_type": "code",
   "execution_count": null,
   "id": "a7c71b4e-0f44-4564-8b10-9b3c75232bd3",
   "metadata": {},
   "outputs": [],
   "source": [
    "Q20. How do you select specific columns in a DataFrame using their labels?"
   ]
  },
  {
   "cell_type": "code",
   "execution_count": null,
   "id": "f03fdf6e-54ec-4c48-ac49-bd1fcf32347c",
   "metadata": {},
   "outputs": [],
   "source": [
    "dataframe['column']"
   ]
  },
  {
   "cell_type": "code",
   "execution_count": null,
   "id": "d7ef5628-580e-4b9d-877a-38ff45a87a94",
   "metadata": {},
   "outputs": [],
   "source": [
    "Q21. How do you select specific rows in a DataFrame using their indexes?"
   ]
  },
  {
   "cell_type": "code",
   "execution_count": null,
   "id": "8a1bce21-c602-49fc-b944-563569a73a0f",
   "metadata": {},
   "outputs": [],
   "source": [
    "dataframe.iloc[index_num]"
   ]
  },
  {
   "cell_type": "code",
   "execution_count": null,
   "id": "bacfcdae-b885-48c6-8f84-6e7e53b4ac7b",
   "metadata": {},
   "outputs": [],
   "source": [
    "Q22. How do you sort a DataFrame by a specific column?"
   ]
  },
  {
   "cell_type": "code",
   "execution_count": null,
   "id": "cc4e1a06-da12-4af7-a1a6-ebb6f0207950",
   "metadata": {},
   "outputs": [],
   "source": [
    "dataframe.sort_values(by='column')"
   ]
  },
  {
   "cell_type": "code",
   "execution_count": null,
   "id": "929a6d3b-c39a-4bef-8885-b543041314ee",
   "metadata": {},
   "outputs": [],
   "source": [
    "Q23. How do you create a new column in a DataFrame based on the values of another column?"
   ]
  },
  {
   "cell_type": "code",
   "execution_count": null,
   "id": "ad88f81a-85dd-4846-9da1-5e5f9062b597",
   "metadata": {},
   "outputs": [],
   "source": [
    "dataframe['new_column'] = dataframe2['old_column']"
   ]
  },
  {
   "cell_type": "code",
   "execution_count": null,
   "id": "231dfe30-39bb-419b-8810-ea3c33752313",
   "metadata": {},
   "outputs": [],
   "source": [
    "Q24. How do you remove duplicates from a DataFrame?"
   ]
  },
  {
   "cell_type": "code",
   "execution_count": null,
   "id": "3699d12f-9dc2-46d7-a316-dbc4bb8b425f",
   "metadata": {},
   "outputs": [],
   "source": [
    "dataframe.drop_duplicates()"
   ]
  },
  {
   "cell_type": "code",
   "execution_count": null,
   "id": "bc7bc05f-a26d-4c48-892e-ba165c9a6229",
   "metadata": {},
   "outputs": [],
   "source": [
    "Q25. What is the difference between .loc and .iloc in Pandas?"
   ]
  },
  {
   "cell_type": "code",
   "execution_count": null,
   "id": "731a92f2-7ac9-4552-9829-3b0766b60e4d",
   "metadata": {},
   "outputs": [],
   "source": [
    "The main difference between .loc and .iloc is that, loc is used for label-based slicing while iloc is used for integer-position based slicing."
   ]
  }
 ],
 "metadata": {
  "kernelspec": {
   "display_name": "Python 3",
   "language": "python",
   "name": "python3"
  },
  "language_info": {
   "codemirror_mode": {
    "name": "ipython",
    "version": 3
   },
   "file_extension": ".py",
   "mimetype": "text/x-python",
   "name": "python",
   "nbconvert_exporter": "python",
   "pygments_lexer": "ipython3",
   "version": "3.9.12"
  }
 },
 "nbformat": 4,
 "nbformat_minor": 5
}
